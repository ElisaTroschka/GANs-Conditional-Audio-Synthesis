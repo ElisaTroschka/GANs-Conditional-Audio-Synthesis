{
 "cells": [
  {
   "cell_type": "code",
   "execution_count": 72,
   "id": "ed997df0-dee5-4238-b89e-741da092f127",
   "metadata": {},
   "outputs": [],
   "source": [
    "import os\n",
    "\n",
    "import numpy as np\n",
    "import seaborn as sns\n",
    "import torch\n",
    "from sklearn.metrics import confusion_matrix\n",
    "from torch.utils.data import DataLoader\n",
    "\n",
    "from src.NSynthDataset import NSynthDataset\n",
    "from src.classifier import AudioClassifier\n",
    "from src.classifier_train import train_classifier"
   ]
  },
  {
   "cell_type": "code",
   "execution_count": 29,
   "id": "66de4b29-b4b3-495a-89c8-4114519854bd",
   "metadata": {},
   "outputs": [],
   "source": [
    "batch_size = 50\n",
    "lr = 1e-4\n",
    "epochs = 10\n",
    "z_size = 1\n",
    "\n",
    "# min len =16000\n",
    "sr = 8191\n",
    "duration = 2\n",
    "device = torch.device('cuda') if torch.cuda.is_available() else 'cpu'"
   ]
  },
  {
   "cell_type": "code",
   "execution_count": 30,
   "id": "bf6e1091-a6da-471a-8669-56619b112df7",
   "metadata": {},
   "outputs": [],
   "source": [
    "os.chdir('../../..')\n",
    "path = 'mnt/data/public/NSynth/'"
   ]
  },
  {
   "cell_type": "code",
   "execution_count": 31,
   "id": "0522fab4-40ab-436f-ab55-c4c152991206",
   "metadata": {},
   "outputs": [],
   "source": [
    "train_set = NSynthDataset(data_path=path, \n",
    "                          mel=False,  label='pitch', \n",
    "                          sampling_rate=sr, duration=duration, \n",
    "                          min_class_count=10000, max_class_count=3000,\n",
    "                          z_size=z_size)"
   ]
  },
  {
   "cell_type": "markdown",
   "id": "2bd7cb92-fcc5-4cb4-a661-0b8c029830fa",
   "metadata": {},
   "source": [
    "val_set = NSynthDataset(data_path=path, stage='valid',\n",
    "                          mel=False,  label='pitch', \n",
    "                          sampling_rate=sr, duration=duration, \n",
    "                          cond_classes=train_set.cond_classes,\n",
    "                          p_enc=train_set.p_enc,\n",
    "                          z_size=z_size)"
   ]
  },
  {
   "cell_type": "code",
   "execution_count": 7,
   "id": "2aaa7436-6972-4e40-a969-700bf96d2263",
   "metadata": {},
   "outputs": [
    {
     "data": {
      "text/html": [
       "<div>\n",
       "<style scoped>\n",
       "    .dataframe tbody tr th:only-of-type {\n",
       "        vertical-align: middle;\n",
       "    }\n",
       "\n",
       "    .dataframe tbody tr th {\n",
       "        vertical-align: top;\n",
       "    }\n",
       "\n",
       "    .dataframe thead th {\n",
       "        text-align: right;\n",
       "    }\n",
       "</style>\n",
       "<table border=\"1\" class=\"dataframe\">\n",
       "  <thead>\n",
       "    <tr style=\"text-align: right;\">\n",
       "      <th></th>\n",
       "      <th>note</th>\n",
       "      <th>sample_rate</th>\n",
       "      <th>pitch</th>\n",
       "      <th>instrument_source</th>\n",
       "      <th>instrument_family_str</th>\n",
       "      <th>instrument_str</th>\n",
       "      <th>note_str</th>\n",
       "      <th>qualities_str</th>\n",
       "      <th>instrument_source_str</th>\n",
       "      <th>velocity</th>\n",
       "      <th>instrument_family</th>\n",
       "      <th>instrument</th>\n",
       "      <th>qualities</th>\n",
       "      <th>instrument_class_str</th>\n",
       "      <th>instrument_class</th>\n",
       "      <th>pitch_enc</th>\n",
       "    </tr>\n",
       "  </thead>\n",
       "  <tbody>\n",
       "    <tr>\n",
       "      <th>organ_electronic_120-050-127</th>\n",
       "      <td>88495</td>\n",
       "      <td>16000</td>\n",
       "      <td>50</td>\n",
       "      <td>1</td>\n",
       "      <td>organ</td>\n",
       "      <td>organ_electronic_120</td>\n",
       "      <td>organ_electronic_120-050-127</td>\n",
       "      <td>[]</td>\n",
       "      <td>electronic</td>\n",
       "      <td>127</td>\n",
       "      <td>6</td>\n",
       "      <td>979</td>\n",
       "      <td>[0, 0, 0, 0, 0, 0, 0, 0, 0, 0]</td>\n",
       "      <td>organ_electronic</td>\n",
       "      <td>[0, 0, 0, 1, 0]</td>\n",
       "      <td>[0, 0, 0, 0, 0, 0, 0, 0, 0, 0, 1, 0, 0, 0, 0, ...</td>\n",
       "    </tr>\n",
       "    <tr>\n",
       "      <th>bass_synthetic_016-080-127</th>\n",
       "      <td>277634</td>\n",
       "      <td>16000</td>\n",
       "      <td>80</td>\n",
       "      <td>2</td>\n",
       "      <td>bass</td>\n",
       "      <td>bass_synthetic_016</td>\n",
       "      <td>bass_synthetic_016-080-127</td>\n",
       "      <td>[bright, long_release]</td>\n",
       "      <td>synthetic</td>\n",
       "      <td>127</td>\n",
       "      <td>0</td>\n",
       "      <td>241</td>\n",
       "      <td>[1, 0, 0, 0, 1, 0, 0, 0, 0, 0]</td>\n",
       "      <td>bass_synthetic</td>\n",
       "      <td>[1, 0, 0, 0, 0]</td>\n",
       "      <td>[0, 0, 0, 0, 0, 0, 0, 0, 0, 0, 0, 0, 0, 0, 0, ...</td>\n",
       "    </tr>\n",
       "    <tr>\n",
       "      <th>bass_synthetic_130-072-100</th>\n",
       "      <td>274364</td>\n",
       "      <td>16000</td>\n",
       "      <td>72</td>\n",
       "      <td>2</td>\n",
       "      <td>bass</td>\n",
       "      <td>bass_synthetic_130</td>\n",
       "      <td>bass_synthetic_130-072-100</td>\n",
       "      <td>[]</td>\n",
       "      <td>synthetic</td>\n",
       "      <td>100</td>\n",
       "      <td>0</td>\n",
       "      <td>907</td>\n",
       "      <td>[0, 0, 0, 0, 0, 0, 0, 0, 0, 0]</td>\n",
       "      <td>bass_synthetic</td>\n",
       "      <td>[1, 0, 0, 0, 0]</td>\n",
       "      <td>[0, 0, 0, 0, 0, 0, 0, 0, 0, 0, 0, 0, 0, 0, 0, ...</td>\n",
       "    </tr>\n",
       "    <tr>\n",
       "      <th>bass_synthetic_077-057-127</th>\n",
       "      <td>280130</td>\n",
       "      <td>16000</td>\n",
       "      <td>57</td>\n",
       "      <td>2</td>\n",
       "      <td>bass</td>\n",
       "      <td>bass_synthetic_077</td>\n",
       "      <td>bass_synthetic_077-057-127</td>\n",
       "      <td>[]</td>\n",
       "      <td>synthetic</td>\n",
       "      <td>127</td>\n",
       "      <td>0</td>\n",
       "      <td>692</td>\n",
       "      <td>[0, 0, 0, 0, 0, 0, 0, 0, 0, 0]</td>\n",
       "      <td>bass_synthetic</td>\n",
       "      <td>[1, 0, 0, 0, 0]</td>\n",
       "      <td>[0, 0, 0, 0, 0, 0, 0, 0, 0, 0, 0, 0, 0, 0, 0, ...</td>\n",
       "    </tr>\n",
       "    <tr>\n",
       "      <th>organ_electronic_025-056-127</th>\n",
       "      <td>253445</td>\n",
       "      <td>16000</td>\n",
       "      <td>56</td>\n",
       "      <td>1</td>\n",
       "      <td>organ</td>\n",
       "      <td>organ_electronic_025</td>\n",
       "      <td>organ_electronic_025-056-127</td>\n",
       "      <td>[dark]</td>\n",
       "      <td>electronic</td>\n",
       "      <td>127</td>\n",
       "      <td>6</td>\n",
       "      <td>411</td>\n",
       "      <td>[0, 1, 0, 0, 0, 0, 0, 0, 0, 0]</td>\n",
       "      <td>organ_electronic</td>\n",
       "      <td>[0, 0, 0, 1, 0]</td>\n",
       "      <td>[0, 0, 0, 0, 0, 0, 0, 0, 0, 0, 0, 0, 0, 0, 0, ...</td>\n",
       "    </tr>\n",
       "    <tr>\n",
       "      <th>...</th>\n",
       "      <td>...</td>\n",
       "      <td>...</td>\n",
       "      <td>...</td>\n",
       "      <td>...</td>\n",
       "      <td>...</td>\n",
       "      <td>...</td>\n",
       "      <td>...</td>\n",
       "      <td>...</td>\n",
       "      <td>...</td>\n",
       "      <td>...</td>\n",
       "      <td>...</td>\n",
       "      <td>...</td>\n",
       "      <td>...</td>\n",
       "      <td>...</td>\n",
       "      <td>...</td>\n",
       "      <td>...</td>\n",
       "    </tr>\n",
       "    <tr>\n",
       "      <th>string_acoustic_066-068-050</th>\n",
       "      <td>106114</td>\n",
       "      <td>16000</td>\n",
       "      <td>68</td>\n",
       "      <td>0</td>\n",
       "      <td>string</td>\n",
       "      <td>string_acoustic_066</td>\n",
       "      <td>string_acoustic_066-068-050</td>\n",
       "      <td>[bright, nonlinear_env, reverb]</td>\n",
       "      <td>acoustic</td>\n",
       "      <td>50</td>\n",
       "      <td>8</td>\n",
       "      <td>532</td>\n",
       "      <td>[1, 0, 0, 0, 0, 0, 1, 0, 1, 0]</td>\n",
       "      <td>string_acoustic</td>\n",
       "      <td>[0, 0, 0, 0, 1]</td>\n",
       "      <td>[0, 0, 0, 0, 0, 0, 0, 0, 0, 0, 0, 0, 0, 0, 0, ...</td>\n",
       "    </tr>\n",
       "    <tr>\n",
       "      <th>string_acoustic_082-053-075</th>\n",
       "      <td>34429</td>\n",
       "      <td>16000</td>\n",
       "      <td>53</td>\n",
       "      <td>0</td>\n",
       "      <td>string</td>\n",
       "      <td>string_acoustic_082</td>\n",
       "      <td>string_acoustic_082-053-075</td>\n",
       "      <td>[reverb]</td>\n",
       "      <td>acoustic</td>\n",
       "      <td>75</td>\n",
       "      <td>8</td>\n",
       "      <td>699</td>\n",
       "      <td>[0, 0, 0, 0, 0, 0, 0, 0, 1, 0]</td>\n",
       "      <td>string_acoustic</td>\n",
       "      <td>[0, 0, 0, 0, 1]</td>\n",
       "      <td>[0, 0, 0, 0, 0, 0, 0, 0, 0, 0, 0, 0, 0, 1, 0, ...</td>\n",
       "    </tr>\n",
       "    <tr>\n",
       "      <th>mallet_acoustic_009-049-075</th>\n",
       "      <td>148250</td>\n",
       "      <td>16000</td>\n",
       "      <td>49</td>\n",
       "      <td>0</td>\n",
       "      <td>mallet</td>\n",
       "      <td>mallet_acoustic_009</td>\n",
       "      <td>mallet_acoustic_009-049-075</td>\n",
       "      <td>[fast_decay, percussive]</td>\n",
       "      <td>acoustic</td>\n",
       "      <td>75</td>\n",
       "      <td>5</td>\n",
       "      <td>116</td>\n",
       "      <td>[0, 0, 0, 1, 0, 0, 0, 1, 0, 0]</td>\n",
       "      <td>mallet_acoustic</td>\n",
       "      <td>[0, 0, 1, 0, 0]</td>\n",
       "      <td>[0, 0, 0, 0, 0, 0, 0, 0, 0, 1, 0, 0, 0, 0, 0, ...</td>\n",
       "    </tr>\n",
       "    <tr>\n",
       "      <th>bass_synthetic_017-080-127</th>\n",
       "      <td>221890</td>\n",
       "      <td>16000</td>\n",
       "      <td>80</td>\n",
       "      <td>2</td>\n",
       "      <td>bass</td>\n",
       "      <td>bass_synthetic_017</td>\n",
       "      <td>bass_synthetic_017-080-127</td>\n",
       "      <td>[bright, distortion, long_release]</td>\n",
       "      <td>synthetic</td>\n",
       "      <td>127</td>\n",
       "      <td>0</td>\n",
       "      <td>249</td>\n",
       "      <td>[1, 0, 1, 0, 1, 0, 0, 0, 0, 0]</td>\n",
       "      <td>bass_synthetic</td>\n",
       "      <td>[1, 0, 0, 0, 0]</td>\n",
       "      <td>[0, 0, 0, 0, 0, 0, 0, 0, 0, 0, 0, 0, 0, 0, 0, ...</td>\n",
       "    </tr>\n",
       "    <tr>\n",
       "      <th>mallet_acoustic_013-058-050</th>\n",
       "      <td>63412</td>\n",
       "      <td>16000</td>\n",
       "      <td>58</td>\n",
       "      <td>0</td>\n",
       "      <td>mallet</td>\n",
       "      <td>mallet_acoustic_013</td>\n",
       "      <td>mallet_acoustic_013-058-050</td>\n",
       "      <td>[dark, fast_decay, reverb]</td>\n",
       "      <td>acoustic</td>\n",
       "      <td>50</td>\n",
       "      <td>5</td>\n",
       "      <td>146</td>\n",
       "      <td>[0, 1, 0, 1, 0, 0, 0, 0, 1, 0]</td>\n",
       "      <td>mallet_acoustic</td>\n",
       "      <td>[0, 0, 1, 0, 0]</td>\n",
       "      <td>[0, 0, 0, 0, 0, 0, 0, 0, 0, 0, 0, 0, 0, 0, 0, ...</td>\n",
       "    </tr>\n",
       "  </tbody>\n",
       "</table>\n",
       "<p>15000 rows × 16 columns</p>\n",
       "</div>"
      ],
      "text/plain": [
       "                                note  sample_rate  pitch  instrument_source  \\\n",
       "organ_electronic_120-050-127   88495        16000     50                  1   \n",
       "bass_synthetic_016-080-127    277634        16000     80                  2   \n",
       "bass_synthetic_130-072-100    274364        16000     72                  2   \n",
       "bass_synthetic_077-057-127    280130        16000     57                  2   \n",
       "organ_electronic_025-056-127  253445        16000     56                  1   \n",
       "...                              ...          ...    ...                ...   \n",
       "string_acoustic_066-068-050   106114        16000     68                  0   \n",
       "string_acoustic_082-053-075    34429        16000     53                  0   \n",
       "mallet_acoustic_009-049-075   148250        16000     49                  0   \n",
       "bass_synthetic_017-080-127    221890        16000     80                  2   \n",
       "mallet_acoustic_013-058-050    63412        16000     58                  0   \n",
       "\n",
       "                             instrument_family_str        instrument_str  \\\n",
       "organ_electronic_120-050-127                 organ  organ_electronic_120   \n",
       "bass_synthetic_016-080-127                    bass    bass_synthetic_016   \n",
       "bass_synthetic_130-072-100                    bass    bass_synthetic_130   \n",
       "bass_synthetic_077-057-127                    bass    bass_synthetic_077   \n",
       "organ_electronic_025-056-127                 organ  organ_electronic_025   \n",
       "...                                            ...                   ...   \n",
       "string_acoustic_066-068-050                 string   string_acoustic_066   \n",
       "string_acoustic_082-053-075                 string   string_acoustic_082   \n",
       "mallet_acoustic_009-049-075                 mallet   mallet_acoustic_009   \n",
       "bass_synthetic_017-080-127                    bass    bass_synthetic_017   \n",
       "mallet_acoustic_013-058-050                 mallet   mallet_acoustic_013   \n",
       "\n",
       "                                                  note_str  \\\n",
       "organ_electronic_120-050-127  organ_electronic_120-050-127   \n",
       "bass_synthetic_016-080-127      bass_synthetic_016-080-127   \n",
       "bass_synthetic_130-072-100      bass_synthetic_130-072-100   \n",
       "bass_synthetic_077-057-127      bass_synthetic_077-057-127   \n",
       "organ_electronic_025-056-127  organ_electronic_025-056-127   \n",
       "...                                                    ...   \n",
       "string_acoustic_066-068-050    string_acoustic_066-068-050   \n",
       "string_acoustic_082-053-075    string_acoustic_082-053-075   \n",
       "mallet_acoustic_009-049-075    mallet_acoustic_009-049-075   \n",
       "bass_synthetic_017-080-127      bass_synthetic_017-080-127   \n",
       "mallet_acoustic_013-058-050    mallet_acoustic_013-058-050   \n",
       "\n",
       "                                                   qualities_str  \\\n",
       "organ_electronic_120-050-127                                  []   \n",
       "bass_synthetic_016-080-127                [bright, long_release]   \n",
       "bass_synthetic_130-072-100                                    []   \n",
       "bass_synthetic_077-057-127                                    []   \n",
       "organ_electronic_025-056-127                              [dark]   \n",
       "...                                                          ...   \n",
       "string_acoustic_066-068-050      [bright, nonlinear_env, reverb]   \n",
       "string_acoustic_082-053-075                             [reverb]   \n",
       "mallet_acoustic_009-049-075             [fast_decay, percussive]   \n",
       "bass_synthetic_017-080-127    [bright, distortion, long_release]   \n",
       "mallet_acoustic_013-058-050           [dark, fast_decay, reverb]   \n",
       "\n",
       "                             instrument_source_str  velocity  \\\n",
       "organ_electronic_120-050-127            electronic       127   \n",
       "bass_synthetic_016-080-127               synthetic       127   \n",
       "bass_synthetic_130-072-100               synthetic       100   \n",
       "bass_synthetic_077-057-127               synthetic       127   \n",
       "organ_electronic_025-056-127            electronic       127   \n",
       "...                                            ...       ...   \n",
       "string_acoustic_066-068-050               acoustic        50   \n",
       "string_acoustic_082-053-075               acoustic        75   \n",
       "mallet_acoustic_009-049-075               acoustic        75   \n",
       "bass_synthetic_017-080-127               synthetic       127   \n",
       "mallet_acoustic_013-058-050               acoustic        50   \n",
       "\n",
       "                              instrument_family  instrument  \\\n",
       "organ_electronic_120-050-127                  6         979   \n",
       "bass_synthetic_016-080-127                    0         241   \n",
       "bass_synthetic_130-072-100                    0         907   \n",
       "bass_synthetic_077-057-127                    0         692   \n",
       "organ_electronic_025-056-127                  6         411   \n",
       "...                                         ...         ...   \n",
       "string_acoustic_066-068-050                   8         532   \n",
       "string_acoustic_082-053-075                   8         699   \n",
       "mallet_acoustic_009-049-075                   5         116   \n",
       "bass_synthetic_017-080-127                    0         249   \n",
       "mallet_acoustic_013-058-050                   5         146   \n",
       "\n",
       "                                                   qualities  \\\n",
       "organ_electronic_120-050-127  [0, 0, 0, 0, 0, 0, 0, 0, 0, 0]   \n",
       "bass_synthetic_016-080-127    [1, 0, 0, 0, 1, 0, 0, 0, 0, 0]   \n",
       "bass_synthetic_130-072-100    [0, 0, 0, 0, 0, 0, 0, 0, 0, 0]   \n",
       "bass_synthetic_077-057-127    [0, 0, 0, 0, 0, 0, 0, 0, 0, 0]   \n",
       "organ_electronic_025-056-127  [0, 1, 0, 0, 0, 0, 0, 0, 0, 0]   \n",
       "...                                                      ...   \n",
       "string_acoustic_066-068-050   [1, 0, 0, 0, 0, 0, 1, 0, 1, 0]   \n",
       "string_acoustic_082-053-075   [0, 0, 0, 0, 0, 0, 0, 0, 1, 0]   \n",
       "mallet_acoustic_009-049-075   [0, 0, 0, 1, 0, 0, 0, 1, 0, 0]   \n",
       "bass_synthetic_017-080-127    [1, 0, 1, 0, 1, 0, 0, 0, 0, 0]   \n",
       "mallet_acoustic_013-058-050   [0, 1, 0, 1, 0, 0, 0, 0, 1, 0]   \n",
       "\n",
       "                             instrument_class_str instrument_class  \\\n",
       "organ_electronic_120-050-127     organ_electronic  [0, 0, 0, 1, 0]   \n",
       "bass_synthetic_016-080-127         bass_synthetic  [1, 0, 0, 0, 0]   \n",
       "bass_synthetic_130-072-100         bass_synthetic  [1, 0, 0, 0, 0]   \n",
       "bass_synthetic_077-057-127         bass_synthetic  [1, 0, 0, 0, 0]   \n",
       "organ_electronic_025-056-127     organ_electronic  [0, 0, 0, 1, 0]   \n",
       "...                                           ...              ...   \n",
       "string_acoustic_066-068-050       string_acoustic  [0, 0, 0, 0, 1]   \n",
       "string_acoustic_082-053-075       string_acoustic  [0, 0, 0, 0, 1]   \n",
       "mallet_acoustic_009-049-075       mallet_acoustic  [0, 0, 1, 0, 0]   \n",
       "bass_synthetic_017-080-127         bass_synthetic  [1, 0, 0, 0, 0]   \n",
       "mallet_acoustic_013-058-050       mallet_acoustic  [0, 0, 1, 0, 0]   \n",
       "\n",
       "                                                                      pitch_enc  \n",
       "organ_electronic_120-050-127  [0, 0, 0, 0, 0, 0, 0, 0, 0, 0, 1, 0, 0, 0, 0, ...  \n",
       "bass_synthetic_016-080-127    [0, 0, 0, 0, 0, 0, 0, 0, 0, 0, 0, 0, 0, 0, 0, ...  \n",
       "bass_synthetic_130-072-100    [0, 0, 0, 0, 0, 0, 0, 0, 0, 0, 0, 0, 0, 0, 0, ...  \n",
       "bass_synthetic_077-057-127    [0, 0, 0, 0, 0, 0, 0, 0, 0, 0, 0, 0, 0, 0, 0, ...  \n",
       "organ_electronic_025-056-127  [0, 0, 0, 0, 0, 0, 0, 0, 0, 0, 0, 0, 0, 0, 0, ...  \n",
       "...                                                                         ...  \n",
       "string_acoustic_066-068-050   [0, 0, 0, 0, 0, 0, 0, 0, 0, 0, 0, 0, 0, 0, 0, ...  \n",
       "string_acoustic_082-053-075   [0, 0, 0, 0, 0, 0, 0, 0, 0, 0, 0, 0, 0, 1, 0, ...  \n",
       "mallet_acoustic_009-049-075   [0, 0, 0, 0, 0, 0, 0, 0, 0, 1, 0, 0, 0, 0, 0, ...  \n",
       "bass_synthetic_017-080-127    [0, 0, 0, 0, 0, 0, 0, 0, 0, 0, 0, 0, 0, 0, 0, ...  \n",
       "mallet_acoustic_013-058-050   [0, 0, 0, 0, 0, 0, 0, 0, 0, 0, 0, 0, 0, 0, 0, ...  \n",
       "\n",
       "[15000 rows x 16 columns]"
      ]
     },
     "execution_count": 7,
     "metadata": {},
     "output_type": "execute_result"
    }
   ],
   "source": [
    "train_set.annot"
   ]
  },
  {
   "cell_type": "code",
   "execution_count": 8,
   "id": "cd3fab7b-0c07-4267-8e8b-17ed65839e2c",
   "metadata": {},
   "outputs": [
    {
     "data": {
      "text/plain": [
       "True"
      ]
     },
     "execution_count": 8,
     "metadata": {},
     "output_type": "execute_result"
    }
   ],
   "source": [
    "train_set.label_size == train_set.annot['pitch'].nunique()"
   ]
  },
  {
   "cell_type": "code",
   "execution_count": 9,
   "id": "46fead6f-ecee-43fa-bd2c-8039fd8f3231",
   "metadata": {},
   "outputs": [
    {
     "name": "stdout",
     "output_type": "stream",
     "text": [
      "Working on cuda\n",
      "AudioClassifier(\n",
      "  (conv_layers): Sequential(\n",
      "    (0): Conv1d(1, 64, kernel_size=(25,), stride=(4,), padding=(11,))\n",
      "    (1): LeakyReLU(negative_slope=0.2)\n",
      "    (2): Conv1d(64, 128, kernel_size=(25,), stride=(4,), padding=(11,))\n",
      "    (3): LeakyReLU(negative_slope=0.2)\n",
      "    (4): Conv1d(128, 256, kernel_size=(25,), stride=(4,), padding=(11,))\n",
      "    (5): LeakyReLU(negative_slope=0.2)\n",
      "    (6): Conv1d(256, 512, kernel_size=(25,), stride=(4,), padding=(11,))\n",
      "    (7): LeakyReLU(negative_slope=0.2)\n",
      "    (8): Conv1d(512, 1024, kernel_size=(25,), stride=(4,), padding=(11,))\n",
      "    (9): LeakyReLU(negative_slope=0.2)\n",
      "    (10): Conv1d(1024, 2048, kernel_size=(25,), stride=(4,), padding=(11,))\n",
      "    (11): LeakyReLU(negative_slope=0.2)\n",
      "  )\n",
      "  (linear): Linear(in_features=8192, out_features=41, bias=True)\n",
      "  (softmax): Softmax(dim=1)\n",
      ")\n"
     ]
    },
    {
     "name": "stderr",
     "output_type": "stream",
     "text": [
      "100%|██████████| 300/300 [00:42<00:00,  6.98it/s]\n"
     ]
    },
    {
     "name": "stdout",
     "output_type": "stream",
     "text": [
      "\n",
      "\u001B[1mEPOCH 1/10:\u001B[0m Avg loss: 0.001, Train accuracy: 0.625\n"
     ]
    },
    {
     "name": "stderr",
     "output_type": "stream",
     "text": [
      "100%|██████████| 300/300 [00:38<00:00,  7.78it/s]\n"
     ]
    },
    {
     "name": "stdout",
     "output_type": "stream",
     "text": [
      "\n",
      "\u001B[1mEPOCH 2/10:\u001B[0m Avg loss: 0.000, Train accuracy: 0.862\n"
     ]
    },
    {
     "name": "stderr",
     "output_type": "stream",
     "text": [
      "100%|██████████| 300/300 [00:39<00:00,  7.60it/s]\n"
     ]
    },
    {
     "name": "stdout",
     "output_type": "stream",
     "text": [
      "\n",
      "\u001B[1mEPOCH 3/10:\u001B[0m Avg loss: 0.000, Train accuracy: 0.889\n"
     ]
    },
    {
     "name": "stderr",
     "output_type": "stream",
     "text": [
      "100%|██████████| 300/300 [00:38<00:00,  7.73it/s]\n"
     ]
    },
    {
     "name": "stdout",
     "output_type": "stream",
     "text": [
      "\n",
      "\u001B[1mEPOCH 4/10:\u001B[0m Avg loss: 0.000, Train accuracy: 0.905\n"
     ]
    },
    {
     "name": "stderr",
     "output_type": "stream",
     "text": [
      "100%|██████████| 300/300 [00:39<00:00,  7.64it/s]\n"
     ]
    },
    {
     "name": "stdout",
     "output_type": "stream",
     "text": [
      "\n",
      "\u001B[1mEPOCH 5/10:\u001B[0m Avg loss: 0.000, Train accuracy: 0.916\n"
     ]
    },
    {
     "name": "stderr",
     "output_type": "stream",
     "text": [
      "100%|██████████| 300/300 [00:38<00:00,  7.74it/s]\n"
     ]
    },
    {
     "name": "stdout",
     "output_type": "stream",
     "text": [
      "\n",
      "\u001B[1mEPOCH 6/10:\u001B[0m Avg loss: 0.000, Train accuracy: 0.926\n"
     ]
    },
    {
     "name": "stderr",
     "output_type": "stream",
     "text": [
      "100%|██████████| 300/300 [00:39<00:00,  7.66it/s]\n"
     ]
    },
    {
     "name": "stdout",
     "output_type": "stream",
     "text": [
      "\n",
      "\u001B[1mEPOCH 7/10:\u001B[0m Avg loss: 0.000, Train accuracy: 0.934\n"
     ]
    },
    {
     "name": "stderr",
     "output_type": "stream",
     "text": [
      "100%|██████████| 300/300 [00:38<00:00,  7.72it/s]\n"
     ]
    },
    {
     "name": "stdout",
     "output_type": "stream",
     "text": [
      "\n",
      "\u001B[1mEPOCH 8/10:\u001B[0m Avg loss: 0.000, Train accuracy: 0.942\n"
     ]
    },
    {
     "name": "stderr",
     "output_type": "stream",
     "text": [
      "100%|██████████| 300/300 [00:39<00:00,  7.68it/s]\n"
     ]
    },
    {
     "name": "stdout",
     "output_type": "stream",
     "text": [
      "\n",
      "\u001B[1mEPOCH 9/10:\u001B[0m Avg loss: 0.000, Train accuracy: 0.950\n"
     ]
    },
    {
     "name": "stderr",
     "output_type": "stream",
     "text": [
      "100%|██████████| 300/300 [00:38<00:00,  7.70it/s]\n"
     ]
    },
    {
     "name": "stdout",
     "output_type": "stream",
     "text": [
      "\n",
      "\u001B[1mEPOCH 10/10:\u001B[0m Avg loss: 0.000, Train accuracy: 0.956\n"
     ]
    }
   ],
   "source": [
    "model, loss_hist = train_classifier(train_set, epochs=epochs, batch_size=batch_size, lr=lr,\n",
    "                                    pretr_epochs=0, save_epochs=10,\n",
    "                                    save_dir='users/adcy353/GANs-Conditional-Audio-Synthesis/eval/')"
   ]
  },
  {
   "cell_type": "code",
   "execution_count": null,
   "id": "21d3f869-b58d-47fe-a92a-386b089e3b95",
   "metadata": {},
   "outputs": [],
   "source": []
  },
  {
   "cell_type": "code",
   "execution_count": 32,
   "id": "976819f8-ea67-4ee1-b4c5-5c3cf8f03976",
   "metadata": {},
   "outputs": [],
   "source": [
    "test_set = NSynthDataset(data_path=path, stage='test',\n",
    "                          mel=False,  label='pitch', \n",
    "                          sampling_rate=sr, duration=duration, \n",
    "                          cond_classes=train_set.cond_classes,\n",
    "                          p_enc=train_set.p_enc,\n",
    "                          z_size=z_size)"
   ]
  },
  {
   "cell_type": "code",
   "execution_count": 33,
   "id": "b830e37e-d019-4fc5-ad93-97cfad414651",
   "metadata": {},
   "outputs": [
    {
     "data": {
      "text/plain": [
       "AudioClassifier(\n",
       "  (conv_layers): Sequential(\n",
       "    (0): Conv1d(1, 64, kernel_size=(25,), stride=(4,), padding=(11,))\n",
       "    (1): LeakyReLU(negative_slope=0.2)\n",
       "    (2): Conv1d(64, 128, kernel_size=(25,), stride=(4,), padding=(11,))\n",
       "    (3): LeakyReLU(negative_slope=0.2)\n",
       "    (4): Conv1d(128, 256, kernel_size=(25,), stride=(4,), padding=(11,))\n",
       "    (5): LeakyReLU(negative_slope=0.2)\n",
       "    (6): Conv1d(256, 512, kernel_size=(25,), stride=(4,), padding=(11,))\n",
       "    (7): LeakyReLU(negative_slope=0.2)\n",
       "    (8): Conv1d(512, 1024, kernel_size=(25,), stride=(4,), padding=(11,))\n",
       "    (9): LeakyReLU(negative_slope=0.2)\n",
       "    (10): Conv1d(1024, 2048, kernel_size=(25,), stride=(4,), padding=(11,))\n",
       "    (11): LeakyReLU(negative_slope=0.2)\n",
       "  )\n",
       "  (linear): Linear(in_features=8192, out_features=41, bias=True)\n",
       "  (softmax): Softmax(dim=1)\n",
       ")"
      ]
     },
     "execution_count": 33,
     "metadata": {},
     "output_type": "execute_result"
    }
   ],
   "source": [
    "C = AudioClassifier(out_dim=train_set.label_size).to(device)\n",
    "C.load_state_dict(torch.load(f'users/adcy353/GANs-Conditional-Audio-Synthesis/eval/class_0.0001-9.pt'))\n",
    "C.eval()"
   ]
  },
  {
   "cell_type": "code",
   "execution_count": 34,
   "id": "43638d20-f4c9-4f3e-8faa-eef9f56ec24f",
   "metadata": {},
   "outputs": [],
   "source": [
    "testloader = DataLoader(test_set, batch_size=test_set.__len__())"
   ]
  },
  {
   "cell_type": "code",
   "execution_count": 69,
   "id": "467b729f-0c73-4832-b0b6-0eb6823fde78",
   "metadata": {},
   "outputs": [],
   "source": [
    "def accuracy_score(loader, C, device='cuda'):\n",
    "    correct_preds = 0\n",
    "    for (x, y_true, _) in loader:\n",
    "        x, y_true = x.to(device), y_true.to(device)\n",
    "        y_pred = C(x)\n",
    "        max_idx = torch.argmax(y_pred, dim=1)\n",
    "        preds = torch.zeros_like(y_pred).to(device)\n",
    "        preds[torch.arange(y_pred.shape[0]).to(device), max_idx] = 1\n",
    "        correct_preds += (preds * y_true).sum()\n",
    "        print(preds.shape, y_true.shape)\n",
    "        print(preds.sum(dim=1), y_true.sum(dim=1))\n",
    "        cm = confusion_matrix(np.argmax(np.array(y_true.cpu()), axis=1), np.argmax(preds.cpu(), axis=1), normalize='true')\n",
    "    accuracy = correct_preds / (len(loader) * loader.batch_size)\n",
    "\n",
    "    return accuracy, cm"
   ]
  },
  {
   "cell_type": "code",
   "execution_count": 70,
   "id": "34317561-1817-4be2-a3e9-c7673c504bb6",
   "metadata": {},
   "outputs": [
    {
     "name": "stdout",
     "output_type": "stream",
     "text": [
      "torch.Size([1202, 41]) torch.Size([1202, 41])\n",
      "tensor([1., 1., 1.,  ..., 1., 1., 1.], device='cuda:0') tensor([1, 1, 1,  ..., 1, 1, 1], device='cuda:0')\n"
     ]
    },
    {
     "data": {
      "text/plain": [
       "tensor(0.9484, device='cuda:0')"
      ]
     },
     "execution_count": 70,
     "metadata": {},
     "output_type": "execute_result"
    }
   ],
   "source": [
    "acc, cm = accuracy_score(testloader, C)\n",
    "acc"
   ]
  },
  {
   "cell_type": "code",
   "execution_count": 73,
   "id": "18e8def5-088f-493a-b783-4be20359f291",
   "metadata": {},
   "outputs": [
    {
     "data": {
      "text/plain": [
       "<AxesSubplot:>"
      ]
     },
     "execution_count": 73,
     "metadata": {},
     "output_type": "execute_result"
    },
    {
     "data": {
      "image/png": "[encoded data removed]",
      "text/plain": [
       "<Figure size 432x288 with 2 Axes>"
      ]
     },
     "metadata": {
      "needs_background": "light"
     },
     "output_type": "display_data"
    }
   ],
   "source": [
    "sns.heatmap(cm)"
   ]
  },
  {
   "cell_type": "code",
   "execution_count": null,
   "id": "18022854-e4d6-4b5d-9a35-83ada003f826",
   "metadata": {},
   "outputs": [],
   "source": []
  },
  {
   "cell_type": "code",
   "execution_count": null,
   "id": "6fed9d8d-f4e3-4700-9e13-2e6099b21084",
   "metadata": {},
   "outputs": [],
   "source": []
  }
 ],
 "metadata": {
  "kernelspec": {
   "display_name": "Python 3 (ipykernel)",
   "language": "python",
   "name": "python3"
  },
  "language_info": {
   "codemirror_mode": {
    "name": "ipython",
    "version": 3
   },
   "file_extension": ".py",
   "mimetype": "text/x-python",
   "name": "python",
   "nbconvert_exporter": "python",
   "pygments_lexer": "ipython3",
   "version": "3.9.5"
  }
 },
 "nbformat": 4,
 "nbformat_minor": 5
}
