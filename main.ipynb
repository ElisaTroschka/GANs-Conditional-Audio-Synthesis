{
 "cells": [
  {
   "cell_type": "code",
   "execution_count": 1,
   "id": "3e1b91ae-f67b-454f-aa74-34f6c1090337",
   "metadata": {},
   "outputs": [],
   "source": [
    "from train import train\n",
    "from NSynthDataset import NSynthDataset\n",
    "import torch\n",
    "import matplotlib.pyplot as plt"
   ]
  },
  {
   "cell_type": "code",
   "execution_count": 2,
   "id": "c94748c2-74f1-440b-9cce-09bfed74c681",
   "metadata": {},
   "outputs": [],
   "source": [
    "batch_size = 50\n",
    "lr = 2e-5\n",
    "epochs = 10\n",
    "z_size = 100\n",
    "\n",
    "# min len =16000\n",
    "sr = 8000\n",
    "duration = 2"
   ]
  },
  {
   "cell_type": "code",
   "execution_count": 3,
   "id": "0c7975d3-c65f-46ab-9c94-6861fe594322",
   "metadata": {},
   "outputs": [],
   "source": [
    "train_set = NSynthDataset(sampling_rate=sr, duration=duration)#, limit=1000)"
   ]
  },
  {
   "cell_type": "code",
   "execution_count": 4,
   "id": "dc518b2d-222d-47f2-81bb-16fff9c015d0",
   "metadata": {},
   "outputs": [
    {
     "data": {
      "text/plain": [
       "(torch.Size([16000]), torch.Size([21]))"
      ]
     },
     "execution_count": 4,
     "metadata": {},
     "output_type": "execute_result"
    }
   ],
   "source": [
    "x, y = train_set.__getitem__(100)\n",
    "x.shape, y.shape"
   ]
  },
  {
   "cell_type": "code",
   "execution_count": null,
   "id": "fabf518c-5d9d-4f32-a232-0955144d0645",
   "metadata": {},
   "outputs": [
    {
     "name": "stdout",
     "output_type": "stream",
     "text": [
      "Working on cuda\n",
      "Loading data...\n",
      "Creating WaveGAN...\n",
      "WaveGANGenerator(\n",
      "  (fc): Linear(in_features=121, out_features=16384, bias=True)\n",
      "  (deconv): Sequential(\n",
      "    (0): ConvTranspose1d(1024, 512, kernel_size=(25,), stride=(4,), padding=(11,), output_padding=(1,))\n",
      "    (1): ReLU()\n",
      "    (2): ConvTranspose1d(512, 256, kernel_size=(25,), stride=(4,), padding=(11,), output_padding=(1,))\n",
      "    (3): ReLU()\n",
      "    (4): ConvTranspose1d(256, 128, kernel_size=(25,), stride=(4,), padding=(11,), output_padding=(1,))\n",
      "    (5): ReLU()\n",
      "    (6): ConvTranspose1d(128, 64, kernel_size=(25,), stride=(4,), padding=(11,), output_padding=(1,))\n",
      "    (7): ReLU()\n",
      "    (8): ConvTranspose1d(64, 1, kernel_size=(25,), stride=(4,), padding=(11,), output_padding=(1,))\n",
      "    (9): Tanh()\n",
      "  )\n",
      ")\n",
      "WaveGANDiscriminator(\n",
      "  (lrelu): LeakyReLU(negative_slope=0.2)\n",
      "  (conv_layers): Sequential(\n",
      "    (0): Conv1d(1, 64, kernel_size=(25,), stride=(4,), padding=(11,))\n",
      "    (1): Conv1d(64, 128, kernel_size=(25,), stride=(4,), padding=(11,))\n",
      "    (2): Conv1d(128, 256, kernel_size=(25,), stride=(4,), padding=(11,))\n",
      "    (3): Conv1d(256, 512, kernel_size=(25,), stride=(4,), padding=(11,))\n",
      "    (4): Conv1d(512, 1024, kernel_size=(25,), stride=(4,), padding=(11,))\n",
      "    (5): Conv1d(1024, 2048, kernel_size=(25,), stride=(4,), padding=(11,))\n",
      "  )\n",
      "  (linear): Linear(in_features=8192, out_features=1, bias=True)\n",
      "  (sigmoid): Sigmoid()\n",
      ")\n",
      "\u001b[94mtotal_memory: 85198045184, available_memory: 9938944\u001b[0m\n"
     ]
    },
    {
     "name": "stderr",
     "output_type": "stream",
     "text": [
      "100%|██████████| 795/795 [05:50<00:00,  2.27it/s]\n"
     ]
    },
    {
     "name": "stdout",
     "output_type": "stream",
     "text": [
      "\n",
      "\u001b[1mEPOCH 1/10:\u001b[0m Generator loss: 0.31343016028404236, Discriminator loss: 1.626281499862671\n",
      "\u001b[94mtotal_memory: 85198045184, available_memory: 1162264576\u001b[0m\n"
     ]
    },
    {
     "name": "stderr",
     "output_type": "stream",
     "text": [
      "100%|██████████| 795/795 [01:11<00:00, 11.13it/s]\n"
     ]
    },
    {
     "name": "stdout",
     "output_type": "stream",
     "text": [
      "\n",
      "\u001b[1mEPOCH 2/10:\u001b[0m Generator loss: 0.3132617473602295, Discriminator loss: 1.6265239715576172\n",
      "\u001b[94mtotal_memory: 85198045184, available_memory: 1162255360\u001b[0m\n"
     ]
    },
    {
     "name": "stderr",
     "output_type": "stream",
     "text": [
      "100%|██████████| 795/795 [01:11<00:00, 11.12it/s]\n"
     ]
    },
    {
     "name": "stdout",
     "output_type": "stream",
     "text": [
      "\n",
      "\u001b[1mEPOCH 3/10:\u001b[0m Generator loss: 0.3132617473602295, Discriminator loss: 1.6265239715576172\n",
      "\u001b[94mtotal_memory: 85198045184, available_memory: 1163214336\u001b[0m\n"
     ]
    },
    {
     "name": "stderr",
     "output_type": "stream",
     "text": [
      "100%|██████████| 795/795 [01:11<00:00, 11.13it/s]\n"
     ]
    },
    {
     "name": "stdout",
     "output_type": "stream",
     "text": [
      "\n",
      "\u001b[1mEPOCH 4/10:\u001b[0m Generator loss: 0.3132617473602295, Discriminator loss: 1.6265239715576172\n",
      "\u001b[94mtotal_memory: 85198045184, available_memory: 1163180544\u001b[0m\n"
     ]
    },
    {
     "name": "stderr",
     "output_type": "stream",
     "text": [
      "100%|██████████| 795/795 [01:11<00:00, 11.13it/s]\n"
     ]
    },
    {
     "name": "stdout",
     "output_type": "stream",
     "text": [
      "\n",
      "\u001b[1mEPOCH 5/10:\u001b[0m Generator loss: 0.3132617473602295, Discriminator loss: 1.6265239715576172\n",
      "\u001b[94mtotal_memory: 85198045184, available_memory: 1163055616\u001b[0m\n"
     ]
    },
    {
     "name": "stderr",
     "output_type": "stream",
     "text": [
      "100%|██████████| 795/795 [01:11<00:00, 11.14it/s]\n"
     ]
    },
    {
     "name": "stdout",
     "output_type": "stream",
     "text": [
      "\n",
      "\u001b[1mEPOCH 6/10:\u001b[0m Generator loss: 0.3132617473602295, Discriminator loss: 1.6265239715576172\n",
      "\u001b[94mtotal_memory: 85198045184, available_memory: 1162987008\u001b[0m\n"
     ]
    },
    {
     "name": "stderr",
     "output_type": "stream",
     "text": [
      "100%|██████████| 795/795 [01:11<00:00, 11.14it/s]\n"
     ]
    },
    {
     "name": "stdout",
     "output_type": "stream",
     "text": [
      "\n",
      "\u001b[1mEPOCH 7/10:\u001b[0m Generator loss: 0.3132617473602295, Discriminator loss: 1.6265239715576172\n",
      "\u001b[94mtotal_memory: 85198045184, available_memory: 1162293760\u001b[0m\n"
     ]
    },
    {
     "name": "stderr",
     "output_type": "stream",
     "text": [
      "100%|██████████| 795/795 [01:11<00:00, 11.14it/s]\n"
     ]
    },
    {
     "name": "stdout",
     "output_type": "stream",
     "text": [
      "\n",
      "\u001b[1mEPOCH 8/10:\u001b[0m Generator loss: 0.3132617473602295, Discriminator loss: 1.6265239715576172\n",
      "\u001b[94mtotal_memory: 85198045184, available_memory: 1163586560\u001b[0m\n"
     ]
    },
    {
     "name": "stderr",
     "output_type": "stream",
     "text": [
      "100%|██████████| 795/795 [01:11<00:00, 11.14it/s]\n"
     ]
    },
    {
     "name": "stdout",
     "output_type": "stream",
     "text": [
      "\n",
      "\u001b[1mEPOCH 9/10:\u001b[0m Generator loss: 0.3132617473602295, Discriminator loss: 1.6265239715576172\n",
      "\u001b[94mtotal_memory: 85198045184, available_memory: 1162977792\u001b[0m\n"
     ]
    },
    {
     "name": "stderr",
     "output_type": "stream",
     "text": [
      " 43%|████▎     | 344/795 [00:31<00:40, 11.13it/s]"
     ]
    }
   ],
   "source": [
    "g_loss, d_loss, G, D = train(train_set, batch_size, lr, epochs, z_size, verbose=1)"
   ]
  },
  {
   "cell_type": "code",
   "execution_count": null,
   "id": "a86f0be0-f684-43a1-8765-7d9bc0819dde",
   "metadata": {},
   "outputs": [],
   "source": [
    "fig, ax = plt.subplots(1, 2, figsize=(15, 5))\n",
    "ax[0].scatter(range(10), g_loss)\n",
    "ax[1].scatter(range(10), d_loss)"
   ]
  },
  {
   "cell_type": "code",
   "execution_count": null,
   "id": "ab1b8d53-7e81-43d6-b464-3eb08f5c7b6f",
   "metadata": {},
   "outputs": [],
   "source": [
    "i = 92\n",
    "w, l = train_set.__getitem__(i)\n",
    "train_set.annot.loc[train_set.fnames[i], 'instrument_class_str']"
   ]
  },
  {
   "cell_type": "code",
   "execution_count": null,
   "id": "0d15e388-8c16-4eb6-96f4-93bf1a3936ed",
   "metadata": {},
   "outputs": [],
   "source": [
    "from IPython.display import Audio\n",
    "Audio(w, rate=sr)"
   ]
  },
  {
   "cell_type": "code",
   "execution_count": null,
   "id": "7d3491c5-c57e-4a5a-9945-86031d71ed9e",
   "metadata": {},
   "outputs": [],
   "source": [
    "z = torch.rand(1, 100).to(torch.device('cuda'))\n",
    "s = G.forward(z, l.unsqueeze(0).to(torch.device('cuda')))\n",
    "s.to(torch.device('cpu'))\n",
    "Audio(s.detach().cpu(), rate=sr)"
   ]
  },
  {
   "cell_type": "code",
   "execution_count": null,
   "id": "684314b5-50e2-46f1-b023-5d256ccbd1c6",
   "metadata": {},
   "outputs": [],
   "source": [
    "\n"
   ]
  },
  {
   "cell_type": "code",
   "execution_count": null,
   "id": "e28b0b92-d9fe-475e-9dd7-638d1611f21e",
   "metadata": {},
   "outputs": [],
   "source": []
  },
  {
   "cell_type": "code",
   "execution_count": null,
   "id": "272931ee-9098-4fdd-8eb4-60f1f9dbcb52",
   "metadata": {},
   "outputs": [],
   "source": []
  }
 ],
 "metadata": {
  "kernelspec": {
   "display_name": "Python 3 (ipykernel)",
   "language": "python",
   "name": "python3"
  },
  "language_info": {
   "codemirror_mode": {
    "name": "ipython",
    "version": 3
   },
   "file_extension": ".py",
   "mimetype": "text/x-python",
   "name": "python",
   "nbconvert_exporter": "python",
   "pygments_lexer": "ipython3",
   "version": "3.9.5"
  }
 },
 "nbformat": 4,
 "nbformat_minor": 5
}
